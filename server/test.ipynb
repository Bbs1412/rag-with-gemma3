{
 "cells": [
  {
   "cell_type": "markdown",
   "id": "5f947b1b",
   "metadata": {},
   "source": [
    "## Imports:"
   ]
  },
  {
   "cell_type": "code",
   "execution_count": 1,
   "id": "4eae8306",
   "metadata": {},
   "outputs": [],
   "source": [
    "# env:\n",
    "import os\n",
    "from dotenv import load_dotenv\n",
    "load_dotenv()\n",
    "# Chat:\n",
    "from operator import itemgetter\n",
    "from langchain_core.documents import Document\n",
    "from langchain_core.messages import AIMessage, HumanMessage, SystemMessage\n",
    "from langchain_core.prompts import ChatPromptTemplate, MessagesPlaceholder\n",
    "from langchain_core.output_parsers import StrOutputParser\n",
    "# History\n",
    "from langchain_core.chat_history import BaseChatMessageHistory\n",
    "from langchain_community.chat_message_histories import ChatMessageHistory\n",
    "from langchain_core.messages import trim_messages\n",
    "from langchain_core.runnables import RunnableWithMessageHistory, RunnablePassthrough\n",
    "# Load\n",
    "from langchain_community.document_loaders import PyMuPDFLoader\n",
    "from langchain_text_splitters import RecursiveCharacterTextSplitter\n",
    "from langchain.chains.combine_documents import create_stuff_documents_chain\n",
    "# Store\n",
    "from langchain_ollama import OllamaEmbeddings\n",
    "from langchain_community.vectorstores import FAISS\n",
    "# Retrieve\n",
    "from langchain.chains import create_retrieval_chain, create_history_aware_retriever"
   ]
  },
  {
   "cell_type": "code",
   "execution_count": 2,
   "id": "88c8fa42",
   "metadata": {},
   "outputs": [],
   "source": [
    "from IPython.display import Markdown\n",
    "# from llm import get_response_stream, get_response"
   ]
  },
  {
   "cell_type": "code",
   "execution_count": 3,
   "id": "d9034491",
   "metadata": {},
   "outputs": [],
   "source": [
    "# for chunk in get_response(\"hello\", dummy=True):\n",
    "#     print(chunk, end=\"\", flush=True)"
   ]
  },
  {
   "cell_type": "code",
   "execution_count": null,
   "id": "aa6e0efe",
   "metadata": {},
   "outputs": [],
   "source": []
  },
  {
   "cell_type": "markdown",
   "id": "a9fd40ed",
   "metadata": {},
   "source": [
    "## LLM:"
   ]
  },
  {
   "cell_type": "code",
   "execution_count": 4,
   "id": "e5d88e91",
   "metadata": {},
   "outputs": [],
   "source": [
    "MAX_TOKENS = 16000\n",
    "PER_DOC_TOKENS = 750\n",
    "SYS_PROMPT_SIZE = 1000 # assumed\n",
    "TOTAL_DOC_SIZE = 3000\n",
    "DOC_COUNT = TOTAL_DOC_SIZE // PER_DOC_TOKENS"
   ]
  },
  {
   "cell_type": "code",
   "execution_count": 5,
   "id": "ca5c0e2d",
   "metadata": {},
   "outputs": [
    {
     "data": {
      "text/plain": [
       "AIMessage(content=\"Hi there! How's your day going so far? 😊 \\n\\nIs there anything you'd like to talk about, or were you just saying hello?\", additional_kwargs={}, response_metadata={'model': 'gemma3:latest', 'created_at': '2025-05-20T15:48:29.098803575Z', 'done': True, 'done_reason': 'stop', 'total_duration': 1880033100, 'load_duration': 1326205909, 'prompt_eval_count': 11, 'prompt_eval_duration': 190513387, 'eval_count': 34, 'eval_duration': 362716599, 'message': Message(role='assistant', content='', images=None, tool_calls=None)}, id='run-395d3a93-8e96-4bb0-9cb4-efb32f06f628-0', usage_metadata={'input_tokens': 11, 'output_tokens': 34, 'total_tokens': 45})"
      ]
     },
     "execution_count": 5,
     "metadata": {},
     "output_type": "execute_result"
    }
   ],
   "source": [
    "from langchain_ollama import ChatOllama\n",
    "\n",
    "# Gemma3 context size -> 128K (1,31,072)\n",
    "# 30k -> 91% RAM, 91% GPU\n",
    "# 25k -> 82% RAM, 89% GPU\n",
    "# 15k -> 66% RAM, 87% GPU\n",
    "\n",
    "\n",
    "llm = ChatOllama(\n",
    "    model=\"gemma3:latest\", temperature=1,\n",
    "    # model=\"gemma3:1b\", temperature=1,\n",
    "    #  num_predict=MAX_OUTPUT_TOKENS,\n",
    "    num_gpu=35, num_ctx=MAX_TOKENS\n",
    ")\n",
    "llm.invoke(\"Hii\")"
   ]
  },
  {
   "cell_type": "code",
   "execution_count": 6,
   "id": "76c84435",
   "metadata": {},
   "outputs": [],
   "source": [
    "# from langchain_groq import ChatGroq\n",
    "# llm = ChatGroq(\n",
    "#     model=\"llama-3.3-70b-versatile\", temperature=\"1\",\n",
    "#     max_tokens=MAX_TOKENS, api_key=os.environ.get(\"GROQ_API_KEY\"),\n",
    "# )\n",
    "# llm.invoke('hi')"
   ]
  },
  {
   "cell_type": "code",
   "execution_count": 7,
   "id": "1e663687",
   "metadata": {},
   "outputs": [],
   "source": [
    "# Markdown(llm.invoke(\"write a story\").content)"
   ]
  },
  {
   "cell_type": "code",
   "execution_count": null,
   "id": "ffa74252",
   "metadata": {},
   "outputs": [],
   "source": []
  },
  {
   "cell_type": "markdown",
   "id": "aef563fc",
   "metadata": {},
   "source": [
    "## Template:\n",
    "\n",
    "<div class=\"alert alert-info\">\n",
    "    <strong>Limitations:</strong> Listed are some base assumptions in certain components of langchain components.\n",
    "</div>\n",
    "\n",
    "- `CreateHistoryAwareRetriever` assumes the latest-user-message key to be `input`\n",
    "- `Trimmer` assumes the `ChatHistory` key to be `messages`\n",
    "- `CreateStuffDocumentChain` assumes returns the clubbed `docs` in key `context`\n",
    "- To overcome this, you need to use `RunnablePassthrough` or RunnableMap and assign those keys and variables accordingly.\n",
    "- But remember, you need to manually set such things for all the variables which u are using different than default.\n",
    "\n",
    "- So it's always good to follow the default keys and avoid complexity in chains."
   ]
  },
  {
   "cell_type": "markdown",
   "id": "9078666d",
   "metadata": {},
   "source": [
    "### Chat:"
   ]
  },
  {
   "cell_type": "code",
   "execution_count": 8,
   "id": "ca015456",
   "metadata": {},
   "outputs": [
    {
     "data": {
      "text/plain": [
       "ChatPromptTemplate(input_variables=['chat_history', 'context', 'input'], input_types={'chat_history': list[typing.Annotated[typing.Union[typing.Annotated[langchain_core.messages.ai.AIMessage, Tag(tag='ai')], typing.Annotated[langchain_core.messages.human.HumanMessage, Tag(tag='human')], typing.Annotated[langchain_core.messages.chat.ChatMessage, Tag(tag='chat')], typing.Annotated[langchain_core.messages.system.SystemMessage, Tag(tag='system')], typing.Annotated[langchain_core.messages.function.FunctionMessage, Tag(tag='function')], typing.Annotated[langchain_core.messages.tool.ToolMessage, Tag(tag='tool')], typing.Annotated[langchain_core.messages.ai.AIMessageChunk, Tag(tag='AIMessageChunk')], typing.Annotated[langchain_core.messages.human.HumanMessageChunk, Tag(tag='HumanMessageChunk')], typing.Annotated[langchain_core.messages.chat.ChatMessageChunk, Tag(tag='ChatMessageChunk')], typing.Annotated[langchain_core.messages.system.SystemMessageChunk, Tag(tag='SystemMessageChunk')], typing.Annotated[langchain_core.messages.function.FunctionMessageChunk, Tag(tag='FunctionMessageChunk')], typing.Annotated[langchain_core.messages.tool.ToolMessageChunk, Tag(tag='ToolMessageChunk')]], FieldInfo(annotation=NoneType, required=True, discriminator=Discriminator(discriminator=<function _get_type at 0x782676722de0>, custom_error_type=None, custom_error_message=None, custom_error_context=None))]]}, partial_variables={}, messages=[SystemMessagePromptTemplate(prompt=PromptTemplate(input_variables=['context'], input_types={}, partial_variables={}, template=\"You are a highly knowledgeable and helpful AI assistant.\\nYou are provided with the user's chat history and external documents to assist in your response.\\n\\nYour task is to:\\n- Accurately and clearly answer the user's latest question.\\n- Incorporate any relevant information from the context documents enclosed below.\\n- Use appropriate markdown formatting for clarity and readability (e.g., bullet points, headings, code blocks, tables).\\n\\n- If not available in the context, mention that and then answer from your own knowledge.\\nContextual Documents:\\n<CONTEXT>{context}</CONTEXT>\"), additional_kwargs={}), MessagesPlaceholder(variable_name='chat_history'), HumanMessagePromptTemplate(prompt=PromptTemplate(input_variables=['input'], input_types={}, partial_variables={}, template='{input} \\n\\n **Strictly stick to the instructions!**'), additional_kwargs={})])"
      ]
     },
     "execution_count": 8,
     "metadata": {},
     "output_type": "execute_result"
    }
   ],
   "source": [
    "template_chat = ChatPromptTemplate.from_messages(\n",
    "    messages=[\n",
    "        (\"system\",  \"\".join([\n",
    "            \"You are a highly knowledgeable and helpful AI assistant.\\n\"\n",
    "            \"You are provided with the user's chat history and external documents to assist in your response.\\n\\n\"\n",
    "            \"Your task is to:\\n\"\n",
    "            \"- Accurately and clearly answer the user's latest question.\\n\"\n",
    "            \"- Incorporate any relevant information from the context documents enclosed below.\\n\"\n",
    "            # \"- Reference the source(s) whenever applicable.\\n\"\n",
    "            \"- Use appropriate markdown formatting for clarity and readability (e.g., bullet points, headings, code blocks, tables).\\n\\n\"\n",
    "            \"- If not available in the context, mention that and then answer from your own knowledge.\\n\"\n",
    "            \"Contextual Documents:\\n\"\n",
    "            \"<CONTEXT>{context}</CONTEXT>\"\n",
    "        ])),\n",
    "        MessagesPlaceholder(variable_name=\"chat_history\"),\n",
    "        (\"human\", \"{input} \\n\\n **Strictly stick to the instructions!**\")\n",
    "    ]\n",
    ")\n",
    "template_chat"
   ]
  },
  {
   "cell_type": "code",
   "execution_count": 9,
   "id": "cfc0a9d9",
   "metadata": {},
   "outputs": [],
   "source": [
    "# Calculate tokens in this System message and pass rest of the max possible chat history:\n",
    "# trim_keep = model_context - template_tokens - 250 (safe side)\n",
    "# template_chat.messages[0].content"
   ]
  },
  {
   "cell_type": "code",
   "execution_count": null,
   "id": "05028a3e",
   "metadata": {},
   "outputs": [],
   "source": []
  },
  {
   "cell_type": "markdown",
   "id": "6659d3b3",
   "metadata": {},
   "source": [
    "### Summarize:"
   ]
  },
  {
   "cell_type": "code",
   "execution_count": 10,
   "id": "0d263f1a",
   "metadata": {},
   "outputs": [
    {
     "data": {
      "text/plain": [
       "ChatPromptTemplate(input_variables=['chat_history', 'input'], input_types={'chat_history': list[typing.Annotated[typing.Union[typing.Annotated[langchain_core.messages.ai.AIMessage, Tag(tag='ai')], typing.Annotated[langchain_core.messages.human.HumanMessage, Tag(tag='human')], typing.Annotated[langchain_core.messages.chat.ChatMessage, Tag(tag='chat')], typing.Annotated[langchain_core.messages.system.SystemMessage, Tag(tag='system')], typing.Annotated[langchain_core.messages.function.FunctionMessage, Tag(tag='function')], typing.Annotated[langchain_core.messages.tool.ToolMessage, Tag(tag='tool')], typing.Annotated[langchain_core.messages.ai.AIMessageChunk, Tag(tag='AIMessageChunk')], typing.Annotated[langchain_core.messages.human.HumanMessageChunk, Tag(tag='HumanMessageChunk')], typing.Annotated[langchain_core.messages.chat.ChatMessageChunk, Tag(tag='ChatMessageChunk')], typing.Annotated[langchain_core.messages.system.SystemMessageChunk, Tag(tag='SystemMessageChunk')], typing.Annotated[langchain_core.messages.function.FunctionMessageChunk, Tag(tag='FunctionMessageChunk')], typing.Annotated[langchain_core.messages.tool.ToolMessageChunk, Tag(tag='ToolMessageChunk')]], FieldInfo(annotation=NoneType, required=True, discriminator=Discriminator(discriminator=<function _get_type at 0x782676722de0>, custom_error_type=None, custom_error_message=None, custom_error_context=None))]]}, partial_variables={}, messages=[SystemMessagePromptTemplate(prompt=PromptTemplate(input_variables=[], input_types={}, partial_variables={}, template=\"You are an expert at summarizing conversations into standalone prompts.\\nYou are given a complete chat history, ending with the user's latest message.\\n\\nYour task is to:\\n- Understand the entire conversation context.\\n- Identify references in the latest user message that relate to earlier messages.\\n- Create a single clear, concise, and standalone question or prompt.\\n- This final prompt should be fully understandable without needing the prior conversation.\\n- It will be used to retrieve the most relevant documents.\\n\\nOnly return the rewritten standalone prompt. Do not add explanations or formatting.\"), additional_kwargs={}), MessagesPlaceholder(variable_name='chat_history'), HumanMessagePromptTemplate(prompt=PromptTemplate(input_variables=['input'], input_types={}, partial_variables={}, template='{input}. \\n\\n **Make one standalone prompt as asked!**'), additional_kwargs={})])"
      ]
     },
     "execution_count": 10,
     "metadata": {},
     "output_type": "execute_result"
    }
   ],
   "source": [
    "template_summarize = ChatPromptTemplate.from_messages(\n",
    "    messages=[\n",
    "        (\"system\", \"\".join([\n",
    "            \"You are an expert at summarizing conversations into standalone prompts.\\n\"\n",
    "            \"You are given a complete chat history, ending with the user's latest message.\\n\\n\"\n",
    "            \"Your task is to:\\n\"\n",
    "            \"- Understand the entire conversation context.\\n\"\n",
    "            \"- Identify references in the latest user message that relate to earlier messages.\\n\"\n",
    "            \"- Create a single clear, concise, and standalone question or prompt.\\n\"\n",
    "            \"- This final prompt should be fully understandable without needing the prior conversation.\\n\"\n",
    "            \"- It will be used to retrieve the most relevant documents.\\n\\n\"\n",
    "            \"Only return the rewritten standalone prompt. Do not add explanations or formatting.\"\n",
    "        ])),\n",
    "        MessagesPlaceholder(variable_name=\"chat_history\"),\n",
    "        (\"human\", \"{input}. \\n\\n **Make one standalone prompt as asked!**\")\n",
    "    ]\n",
    ")\n",
    "template_summarize"
   ]
  },
  {
   "cell_type": "code",
   "execution_count": 11,
   "id": "bcc331c6",
   "metadata": {},
   "outputs": [],
   "source": [
    "# Calculate tokens in this System message and pass rest of the max possible chat history:\n",
    "# trim_keep = model_context - template_tokens - (1000tok/doc * n-docs) - 250 (safe side)\n",
    "# template_summarize.messages"
   ]
  },
  {
   "cell_type": "code",
   "execution_count": null,
   "id": "fb7fa2aa",
   "metadata": {},
   "outputs": [],
   "source": []
  },
  {
   "cell_type": "markdown",
   "id": "e81f3ce2",
   "metadata": {},
   "source": [
    "## Chat Message History:"
   ]
  },
  {
   "cell_type": "code",
   "execution_count": 12,
   "id": "c10bd691",
   "metadata": {},
   "outputs": [],
   "source": [
    "chat_histories = {}"
   ]
  },
  {
   "cell_type": "code",
   "execution_count": 13,
   "id": "7cff95dc",
   "metadata": {},
   "outputs": [
    {
     "name": "stdout",
     "output_type": "stream",
     "text": [
      "Created chat hist for session id: `abv`\n"
     ]
    },
    {
     "data": {
      "text/plain": [
       "InMemoryChatMessageHistory(messages=[])"
      ]
     },
     "execution_count": 13,
     "metadata": {},
     "output_type": "execute_result"
    }
   ],
   "source": [
    "def get_session_history(session_id:str) -> BaseChatMessageHistory:\n",
    "    # print(\"*\"*40, session_id, \"*\"*40)\n",
    "    if session_id not in chat_histories:\n",
    "        chat_histories[session_id] = ChatMessageHistory()\n",
    "        # log here for creation of new chat history\n",
    "        print(f\"Created chat hist for session id: `{session_id}`\")    \n",
    "    return chat_histories[session_id]\n",
    "\n",
    "get_session_history(\"abv\")"
   ]
  },
  {
   "cell_type": "code",
   "execution_count": 14,
   "id": "b8348a8f",
   "metadata": {},
   "outputs": [
    {
     "data": {
      "text/plain": [
       "InMemoryChatMessageHistory(messages=[])"
      ]
     },
     "execution_count": 14,
     "metadata": {},
     "output_type": "execute_result"
    }
   ],
   "source": [
    "get_session_history(\"abv\")"
   ]
  },
  {
   "cell_type": "code",
   "execution_count": null,
   "id": "7d912cf1",
   "metadata": {},
   "outputs": [],
   "source": []
  },
  {
   "cell_type": "markdown",
   "id": "5e8716e2",
   "metadata": {},
   "source": [
    "### Trimmer:\n",
    "- Due to some un-known issue in variable name of messages being \"chat_history\" or \"messages\" the trimmer cant be used in this RAG implementation.\n",
    "- Reason: Trimmer expects \"messages\"\n",
    "- But, if i use \"messages\", then idk why, the summarizer step does not call LLM at all, it just does not work, and is completely untraceable.\n",
    "- Still, if u want to implement, use one runnable_passthrough before the trimmer in chain to convert chat_history > messages and the after its response, output > chat_history again! "
   ]
  },
  {
   "cell_type": "code",
   "execution_count": 15,
   "id": "39350a60",
   "metadata": {},
   "outputs": [],
   "source": [
    "# # For summary 15k chat + 1k system and all\n",
    "# trim_summary = trim_messages(\n",
    "#     max_tokens=MAX_TOKENS - SYS_PROMPT_SIZE,\n",
    "#     strategy=\"last\", token_counter=llm, start_on=\"human\",\n",
    "#     allow_partial=True,  # include_system=True,\n",
    "# )\n",
    "\n",
    "# # For chat 10k chat + 5*1k docs + 1k system and all\n",
    "# trim_chat = trim_messages(\n",
    "#     max_tokens=MAX_TOKENS - (TOTAL_DOC_SIZE) - SYS_PROMPT_SIZE,\n",
    "#     strategy=\"last\", token_counter=llm, start_on=\"human\",\n",
    "#     allow_partial=True,  # include_system=True,\n",
    "# )"
   ]
  },
  {
   "cell_type": "code",
   "execution_count": null,
   "id": "e7b73aef",
   "metadata": {},
   "outputs": [],
   "source": []
  },
  {
   "cell_type": "markdown",
   "id": "34a387c0",
   "metadata": {},
   "source": [
    "## VectorStore:\n",
    "### Embeddings:\n",
    "- Notice that the embeddings are not offloaded at all to the GPU\n",
    "- This is done because the Ollama repeatedly keeps loading and un-loading the emb / llm in each call.\n",
    "- Even when I have memory, IDK why ollama loads only one of them?"
   ]
  },
  {
   "cell_type": "code",
   "execution_count": 16,
   "id": "4a1fa76c",
   "metadata": {},
   "outputs": [
    {
     "data": {
      "text/plain": [
       "OllamaEmbeddings(model='mxbai-embed-large:latest', base_url=None, client_kwargs={}, mirostat=None, mirostat_eta=None, mirostat_tau=None, num_ctx=None, num_gpu=0, keep_alive=None, num_thread=None, repeat_last_n=None, repeat_penalty=None, temperature=None, stop=None, tfs_z=None, top_k=None, top_p=None)"
      ]
     },
     "execution_count": 16,
     "metadata": {},
     "output_type": "execute_result"
    }
   ],
   "source": [
    "embeddings = OllamaEmbeddings(model=\"mxbai-embed-large:latest\", num_gpu=0)\n",
    "embeddings"
   ]
  },
  {
   "cell_type": "markdown",
   "id": "686e69b0",
   "metadata": {},
   "source": [
    "### Loader:"
   ]
  },
  {
   "cell_type": "code",
   "execution_count": 17,
   "id": "ec65bbd5",
   "metadata": {},
   "outputs": [
    {
     "data": {
      "text/plain": [
       "[Document(metadata={'producer': 'Acrobat Distiller 4.0 for Windows', 'creator': 'Microsoft Word 8.0', 'creationdate': '2000-06-29T10:21:08+11:00', 'source': './assets/pdf_w_text.pdf', 'file_path': './assets/pdf_w_text.pdf', 'total_pages': 1, 'format': 'PDF 1.3', 'title': 'This is a test PDF file', 'author': 'cdaily', 'subject': '', 'keywords': '', 'moddate': '2013-10-28T15:24:13-04:00', 'trapped': '', 'modDate': \"D:20131028152413-04'00'\", 'creationDate': \"D:20000629102108+11'00'\", 'page': 0}, page_content=\"Adobe Acrobat PDF Files\\nAdobe® Portable Document Format (PDF) is a universal file format that preserves all\\nof the fonts, formatting, colours and graphics of any source document, regardless of\\nthe application and platform used to create it.\\nAdobe PDF is an ideal format for electronic document distribution as it overcomes the\\nproblems commonly encountered with electronic file sharing.\\n• Anyone, anywhere can open a PDF file. All you need is the free Adobe Acrobat\\nReader. Recipients of other file formats sometimes can't open files because they\\ndon't have the applications used to create the documents.\\n• PDF files always print correctly on any printing device.\\n• PDF files always display exactly as created, regardless of fonts, software, and\\noperating systems. Fonts, and graphics are not lost due to platform, software, and\\nversion incompatibilities.\\n• The free Acrobat Reader is easy to download and can be freely distributed by\\nanyone.\\n• Compact PDF files are smaller than their source files and download a\\npage at a time for fast display on the Web.\")]"
      ]
     },
     "execution_count": 17,
     "metadata": {},
     "output_type": "execute_result"
    }
   ],
   "source": [
    "file = PyMuPDFLoader(file_path=\"./assets/pdf_w_text.pdf\", extract_tables='markdown', extract_images=True).load()\n",
    "file"
   ]
  },
  {
   "cell_type": "markdown",
   "id": "f927b8aa",
   "metadata": {},
   "source": [
    "### Splitter:"
   ]
  },
  {
   "cell_type": "code",
   "execution_count": 18,
   "id": "3a5247c3",
   "metadata": {},
   "outputs": [
    {
     "data": {
      "text/plain": [
       "<langchain_text_splitters.character.RecursiveCharacterTextSplitter at 0x782663610650>"
      ]
     },
     "execution_count": 18,
     "metadata": {},
     "output_type": "execute_result"
    }
   ],
   "source": [
    "splitter = RecursiveCharacterTextSplitter(\n",
    "    chunk_size=PER_DOC_TOKENS, chunk_overlap=150,\n",
    ")\n",
    "splitter"
   ]
  },
  {
   "cell_type": "code",
   "execution_count": null,
   "id": "442d840a",
   "metadata": {},
   "outputs": [],
   "source": []
  },
  {
   "cell_type": "markdown",
   "id": "afd1b33c",
   "metadata": {},
   "source": [
    "### Database:"
   ]
  },
  {
   "cell_type": "code",
   "execution_count": 19,
   "id": "70c108c2",
   "metadata": {},
   "outputs": [
    {
     "data": {
      "text/plain": [
       "[Document(metadata={'producer': 'Acrobat Distiller 4.0 for Windows', 'creator': 'Microsoft Word 8.0', 'creationdate': '2000-06-29T10:21:08+11:00', 'source': './assets/pdf_w_text.pdf', 'file_path': './assets/pdf_w_text.pdf', 'total_pages': 1, 'format': 'PDF 1.3', 'title': 'This is a test PDF file', 'author': 'cdaily', 'subject': '', 'keywords': '', 'moddate': '2013-10-28T15:24:13-04:00', 'trapped': '', 'modDate': \"D:20131028152413-04'00'\", 'creationDate': \"D:20000629102108+11'00'\", 'page': 0}, page_content=\"Adobe Acrobat PDF Files\\nAdobe® Portable Document Format (PDF) is a universal file format that preserves all\\nof the fonts, formatting, colours and graphics of any source document, regardless of\\nthe application and platform used to create it.\\nAdobe PDF is an ideal format for electronic document distribution as it overcomes the\\nproblems commonly encountered with electronic file sharing.\\n• Anyone, anywhere can open a PDF file. All you need is the free Adobe Acrobat\\nReader. Recipients of other file formats sometimes can't open files because they\\ndon't have the applications used to create the documents.\\n• PDF files always print correctly on any printing device.\\n• PDF files always display exactly as created, regardless of fonts, software, and\"),\n",
       " Document(metadata={'producer': 'Acrobat Distiller 4.0 for Windows', 'creator': 'Microsoft Word 8.0', 'creationdate': '2000-06-29T10:21:08+11:00', 'source': './assets/pdf_w_text.pdf', 'file_path': './assets/pdf_w_text.pdf', 'total_pages': 1, 'format': 'PDF 1.3', 'title': 'This is a test PDF file', 'author': 'cdaily', 'subject': '', 'keywords': '', 'moddate': '2013-10-28T15:24:13-04:00', 'trapped': '', 'modDate': \"D:20131028152413-04'00'\", 'creationDate': \"D:20000629102108+11'00'\", 'page': 0}, page_content='• PDF files always print correctly on any printing device.\\n• PDF files always display exactly as created, regardless of fonts, software, and\\noperating systems. Fonts, and graphics are not lost due to platform, software, and\\nversion incompatibilities.\\n• The free Acrobat Reader is easy to download and can be freely distributed by\\nanyone.\\n• Compact PDF files are smaller than their source files and download a\\npage at a time for fast display on the Web.')]"
      ]
     },
     "execution_count": 19,
     "metadata": {},
     "output_type": "execute_result"
    }
   ],
   "source": [
    "splitted = splitter.split_documents(file)\n",
    "splitted"
   ]
  },
  {
   "cell_type": "code",
   "execution_count": 20,
   "id": "c8f8f053",
   "metadata": {},
   "outputs": [
    {
     "data": {
      "text/plain": [
       "<langchain_community.vectorstores.faiss.FAISS at 0x782676db6720>"
      ]
     },
     "execution_count": 20,
     "metadata": {},
     "output_type": "execute_result"
    }
   ],
   "source": [
    "# This initialization needs 4 param, so rather moving to adding one doc manually.\n",
    "database = FAISS.from_documents(documents=splitted, embedding=embeddings)\n",
    "database"
   ]
  },
  {
   "cell_type": "code",
   "execution_count": 21,
   "id": "e5dba060",
   "metadata": {},
   "outputs": [
    {
     "name": "stdout",
     "output_type": "stream",
     "text": [
      "\"Adobe Acrobat PDF Files\\nAdobe® Portable Document Format (PDF) is a universal file format that preserves all\\nof the fonts, formatting, colours and graphics of any source document, regardless of\\nthe application and platform used to create it.\\nAdobe PDF is an ideal format for electronic document distribution as it overcomes the\\nproblems commonly encountered with electronic file sharing.\\n• Anyone, anywhere can open a PDF file. All you need is the free Adobe Acrobat\\nReader. Recipients of other file formats sometimes can't open files because they\\ndon't have the applications used to create the documents.\\n• PDF files always print correctly on any printing device.\\n• PDF files always display exactly as created, regardless of fonts, software, and\"\n",
      "109\n"
     ]
    }
   ],
   "source": [
    "print(repr(splitted[0].page_content))\n",
    "print(len(splitted[0].page_content.split(\" \")))"
   ]
  },
  {
   "cell_type": "code",
   "execution_count": null,
   "id": "e09b24c4",
   "metadata": {},
   "outputs": [],
   "source": []
  },
  {
   "cell_type": "markdown",
   "id": "9df58878",
   "metadata": {},
   "source": [
    "### Retriever:"
   ]
  },
  {
   "cell_type": "markdown",
   "id": "3bcfabaf",
   "metadata": {},
   "source": [
    "- So for 750 chars, there are appx 95 word (max 150)\n",
    "- In order to retrieve the 3k tokens, we need to have 3k/150 = 20 chunks\n",
    "- So, set k=20"
   ]
  },
  {
   "cell_type": "code",
   "execution_count": 22,
   "id": "e01408ed",
   "metadata": {},
   "outputs": [
    {
     "data": {
      "text/plain": [
       "VectorStoreRetriever(tags=['FAISS', 'OllamaEmbeddings'], vectorstore=<langchain_community.vectorstores.faiss.FAISS object at 0x782676db6720>, search_kwargs={'k': 20})"
      ]
     },
     "execution_count": 22,
     "metadata": {},
     "output_type": "execute_result"
    }
   ],
   "source": [
    "retriever = database.as_retriever(\n",
    "    search_type=\"similarity\",\n",
    "    search_kwargs={'k': 20}\n",
    ")\n",
    "retriever"
   ]
  },
  {
   "cell_type": "code",
   "execution_count": 23,
   "id": "2e90fb13",
   "metadata": {},
   "outputs": [
    {
     "data": {
      "text/plain": [
       "[Document(id='85ac837c-f5c2-447e-90ee-704e3af4f03c', metadata={'producer': 'Acrobat Distiller 4.0 for Windows', 'creator': 'Microsoft Word 8.0', 'creationdate': '2000-06-29T10:21:08+11:00', 'source': './assets/pdf_w_text.pdf', 'file_path': './assets/pdf_w_text.pdf', 'total_pages': 1, 'format': 'PDF 1.3', 'title': 'This is a test PDF file', 'author': 'cdaily', 'subject': '', 'keywords': '', 'moddate': '2013-10-28T15:24:13-04:00', 'trapped': '', 'modDate': \"D:20131028152413-04'00'\", 'creationDate': \"D:20000629102108+11'00'\", 'page': 0}, page_content=\"Adobe Acrobat PDF Files\\nAdobe® Portable Document Format (PDF) is a universal file format that preserves all\\nof the fonts, formatting, colours and graphics of any source document, regardless of\\nthe application and platform used to create it.\\nAdobe PDF is an ideal format for electronic document distribution as it overcomes the\\nproblems commonly encountered with electronic file sharing.\\n• Anyone, anywhere can open a PDF file. All you need is the free Adobe Acrobat\\nReader. Recipients of other file formats sometimes can't open files because they\\ndon't have the applications used to create the documents.\\n• PDF files always print correctly on any printing device.\\n• PDF files always display exactly as created, regardless of fonts, software, and\"),\n",
       " Document(id='1733dbd3-6990-49b0-8ec5-33fe0a3e331d', metadata={'producer': 'Acrobat Distiller 4.0 for Windows', 'creator': 'Microsoft Word 8.0', 'creationdate': '2000-06-29T10:21:08+11:00', 'source': './assets/pdf_w_text.pdf', 'file_path': './assets/pdf_w_text.pdf', 'total_pages': 1, 'format': 'PDF 1.3', 'title': 'This is a test PDF file', 'author': 'cdaily', 'subject': '', 'keywords': '', 'moddate': '2013-10-28T15:24:13-04:00', 'trapped': '', 'modDate': \"D:20131028152413-04'00'\", 'creationDate': \"D:20000629102108+11'00'\", 'page': 0}, page_content='• PDF files always print correctly on any printing device.\\n• PDF files always display exactly as created, regardless of fonts, software, and\\noperating systems. Fonts, and graphics are not lost due to platform, software, and\\nversion incompatibilities.\\n• The free Acrobat Reader is easy to download and can be freely distributed by\\nanyone.\\n• Compact PDF files are smaller than their source files and download a\\npage at a time for fast display on the Web.')]"
      ]
     },
     "execution_count": 23,
     "metadata": {},
     "output_type": "execute_result"
    }
   ],
   "source": [
    "retriever.invoke(\"fun\")"
   ]
  },
  {
   "cell_type": "code",
   "execution_count": null,
   "id": "e85b38c9",
   "metadata": {},
   "outputs": [],
   "source": []
  },
  {
   "cell_type": "code",
   "execution_count": null,
   "id": "6323de82",
   "metadata": {},
   "outputs": [],
   "source": []
  },
  {
   "cell_type": "markdown",
   "id": "9a1aca4c",
   "metadata": {},
   "source": [
    "## Summarizer:\n",
    "\n",
    "- Old method.\n",
    "- This is too much hard-coded, switch to the retrieval method with the create_stuff_chain to ingest the documents and get the answer in one single chain call."
   ]
  },
  {
   "cell_type": "code",
   "execution_count": 24,
   "id": "7d4b9324",
   "metadata": {},
   "outputs": [],
   "source": [
    "# chain = (\n",
    "#     RunnablePassthrough().assign(messages=itemgetter(\"messages\") | trim_chat)\n",
    "#     | template_summarize | llm | StrOutputParser())\n",
    "\n",
    "# summarizer_llm = RunnableWithMessageHistory(\n",
    "#     runnable=chain,\n",
    "#     get_session_history=get_session_history,\n",
    "#     input_messages_key=\"input\",\n",
    "#     history_messages_key=\"messages\",\n",
    "# )"
   ]
  },
  {
   "cell_type": "code",
   "execution_count": 25,
   "id": "ce0e8b73",
   "metadata": {},
   "outputs": [],
   "source": [
    "# chat_histories[10] = ChatMessageHistory()\n",
    "# chat_histories[10].messages = [\n",
    "#     HumanMessage(\"Hello, I'm Bhushan, What is your name?\"),\n",
    "#     AIMessage(\"I am an AI assistant. I am not a human like you.\"),\n",
    "#     HumanMessage(\"What is Artificial General Intelligence?\"),\n",
    "#     AIMessage(\"Artificial General Intelligence (AGI) refers to highly autonomous systems that outperform humans at most economically valuable work.\"),\n",
    "# ]\n",
    "# # )"
   ]
  },
  {
   "cell_type": "code",
   "execution_count": 26,
   "metadata": {},
   "outputs": [],
   "source": [
    "# summarizer_llm.invoke(\n",
    "#     input={\"input\": \"So it's not achieved yet?\", },\n",
    "#     config={\"configurable\": {\"session_id\": 10}}\n",
    "# )"
   ]
  },
  {
   "cell_type": "code",
   "execution_count": 27,
   "id": "364a3497",
   "metadata": {},
   "outputs": [],
   "source": [
    "# chat_histories[10].messages"
   ]
  },
  {
   "cell_type": "code",
   "execution_count": null,
   "id": "5fba9fca",
   "metadata": {},
   "outputs": [],
   "source": []
  },
  {
   "cell_type": "code",
   "execution_count": null,
   "id": "3483077d",
   "metadata": {},
   "outputs": [],
   "source": []
  },
  {
   "cell_type": "markdown",
   "id": "e3fb841d",
   "metadata": {},
   "source": [
    "## Runnable With History:\n",
    "- Commented out as it's un-necessary and not used in the code.\n",
    "- But, keep it, as it can be used in the future."
   ]
  },
  {
   "cell_type": "code",
   "execution_count": 28,
   "id": "ad4a458c",
   "metadata": {},
   "outputs": [],
   "source": [
    "# chain = (\n",
    "#     RunnablePassthrough(name=\"Trim Chat History\").assign(messages=itemgetter(\"messages\") | trim_chat)\n",
    "#     | template_chat | llm | StrOutputParser())\n",
    "\n",
    "# chat_llm = RunnableWithMessageHistory(\n",
    "#     runnable=chain,\n",
    "#     get_session_history=get_session_history,\n",
    "#     input_messages_key=\"input\",\n",
    "#     history_messages_key=\"messages\",\n",
    "# )"
   ]
  },
  {
   "cell_type": "code",
   "execution_count": 29,
   "id": "5ff80224",
   "metadata": {},
   "outputs": [],
   "source": [
    "# chat_llm.invoke(\n",
    "#     input={\n",
    "#         \"input\": \"Hello, I'm Bhushan, What is your name?\",\n",
    "#         \"context\": \"This is some random document which contains some random information.\"\n",
    "#     },\n",
    "#     config={\n",
    "#         \"configurable\": {\n",
    "#             \"session_id\": 15\n",
    "#         }\n",
    "#     }\n",
    "# )"
   ]
  },
  {
   "cell_type": "code",
   "execution_count": 30,
   "id": "87d49b24",
   "metadata": {},
   "outputs": [],
   "source": [
    "# chat_llm.invoke(\n",
    "#     input={\n",
    "#         \"input\": \"What did we discuss?\",\n",
    "#         \"context\": \"There is no context available for this question.\"\n",
    "#     },\n",
    "#     config={\n",
    "#         \"configurable\": {\n",
    "#             \"session_id\": 15\n",
    "#         }\n",
    "#     }\n",
    "# )"
   ]
  },
  {
   "cell_type": "code",
   "execution_count": null,
   "id": "572626cf",
   "metadata": {},
   "outputs": [],
   "source": []
  },
  {
   "cell_type": "markdown",
   "id": "a284c06c",
   "metadata": {},
   "source": [
    "- If () add option to paste link and scrap whole content from there."
   ]
  },
  {
   "cell_type": "markdown",
   "id": "04c1d7ad",
   "metadata": {},
   "source": [
    "## Chain:"
   ]
  },
  {
   "cell_type": "code",
   "execution_count": 31,
   "id": "d84c643b",
   "metadata": {},
   "outputs": [],
   "source": [
    "# Make a passthrough which prints variables and passes them to next step\n",
    "def print_and_pass(input):\n",
    "    print(input)\n",
    "    return input"
   ]
  },
  {
   "cell_type": "code",
   "execution_count": 32,
   "id": "1dba081b",
   "metadata": {},
   "outputs": [
    {
     "data": {
      "text/plain": [
       "RunnableWithMessageHistory(bound=RunnableBinding(bound=RunnableBinding(bound=RunnableAssign(mapper={\n",
       "  chat_history: RunnableBinding(bound=RunnableLambda(_enter_history), kwargs={}, config={'run_name': 'load_history'}, config_factories=[])\n",
       "}), kwargs={}, config={'run_name': 'insert_history'}, config_factories=[])\n",
       "| RunnableBinding(bound=RunnableLambda(_call_runnable_sync), kwargs={}, config={'run_name': 'check_sync_or_async'}, config_factories=[]), kwargs={}, config={'run_name': 'RunnableWithMessageHistory'}, config_factories=[]), kwargs={}, config={}, config_factories=[], get_session_history=<function get_session_history at 0x782663607c40>, input_messages_key='input', output_messages_key='answer', history_messages_key='chat_history', history_factory_config=[ConfigurableFieldSpec(id='session_id', annotation=<class 'str'>, name='Session ID', description='Unique identifier for a session.', default='', is_shared=True, dependencies=None)])"
      ]
     },
     "execution_count": 32,
     "metadata": {},
     "output_type": "execute_result"
    }
   ],
   "source": [
    "# 3 User Input + Chat History > Summarizer Template > Standalone Que > Get Docs\n",
    "summarize_chain = create_history_aware_retriever(llm, retriever, template_summarize)\n",
    "# summarize_chain = trim_summary | create_history_aware_retriever(llm, retriever, template_summarize)\n",
    "\n",
    "# 4 Multiple Docs > Combine All > Chat Template > Final Output\n",
    "qa_chain = create_stuff_documents_chain(llm=llm, prompt=template_chat)\n",
    "\n",
    "# 2 Input + Chat History > [ `Summarizer Template` > `Get Docs` ] > [ `Combine` > `Chat Template` ] > Output\n",
    "rag_chain = create_retrieval_chain(summarize_chain , qa_chain)\n",
    "\n",
    "# 1 Final main chain:\n",
    "conversational_rag_chain = RunnableWithMessageHistory(\n",
    "    runnable=rag_chain,\n",
    "    get_session_history=get_session_history,\n",
    "    input_messages_key=\"input\",\n",
    "    history_messages_key=\"chat_history\",\n",
    "    output_messages_key=\"answer\",\n",
    ")\n",
    "conversational_rag_chain"
   ]
  },
  {
   "cell_type": "markdown",
   "id": "2faa3a7d",
   "metadata": {},
   "source": [
    "## Test:"
   ]
  },
  {
   "cell_type": "markdown",
   "id": "19e77ef7",
   "metadata": {},
   "source": [
    "### Database:"
   ]
  },
  {
   "cell_type": "code",
   "execution_count": 33,
   "id": "c84f7631",
   "metadata": {},
   "outputs": [
    {
     "data": {
      "text/plain": [
       "['a1cd727f-9fc6-4585-a6b2-571d5a59a803',\n",
       " '46bd6c46-f3d4-48d5-86b6-f2479a957b3e',\n",
       " 'b0d1c006-be00-4c3d-b609-ecb71302ef01',\n",
       " '5f3b1177-d2a3-4d4f-b887-5cd9b5a27a95',\n",
       " 'de68b1c6-7416-4a38-94ae-24613b054a0c',\n",
       " '8643d5be-c856-49ae-be4f-c25d99e39a2c',\n",
       " '5f4fa239-cfaa-4100-9f1c-8005bf02ffbb']"
      ]
     },
     "execution_count": 33,
     "metadata": {},
     "output_type": "execute_result"
    }
   ],
   "source": [
    "database.add_documents(\n",
    "    [\n",
    "        Document(\"Cats and Dogs are both popular pets.\"),\n",
    "        Document(\"Cats are independent and low-maintenance pets.\"),\n",
    "        Document(\"Dogs are loyal and require more attention.\"),\n",
    "        Document(\"Cats are often seen as aloof and mysterious.\"),\n",
    "        Document(\"Dogs are known for their loyalty and companionship.\"),\n",
    "        Document(\"Cats are great for small living spaces.\"),\n",
    "        Document(\"Cats are NOT AT ALL LOYAL.\"),\n",
    "    ],\n",
    "    embedding=embeddings\n",
    ")"
   ]
  },
  {
   "cell_type": "code",
   "execution_count": 34,
   "id": "f8c1713d",
   "metadata": {},
   "outputs": [
    {
     "data": {
      "text/plain": [
       "[Document(id='a1cd727f-9fc6-4585-a6b2-571d5a59a803', metadata={}, page_content='Cats and Dogs are both popular pets.'),\n",
       " Document(id='de68b1c6-7416-4a38-94ae-24613b054a0c', metadata={}, page_content='Dogs are known for their loyalty and companionship.'),\n",
       " Document(id='b0d1c006-be00-4c3d-b609-ecb71302ef01', metadata={}, page_content='Dogs are loyal and require more attention.'),\n",
       " Document(id='46bd6c46-f3d4-48d5-86b6-f2479a957b3e', metadata={}, page_content='Cats are independent and low-maintenance pets.'),\n",
       " Document(id='8643d5be-c856-49ae-be4f-c25d99e39a2c', metadata={}, page_content='Cats are great for small living spaces.'),\n",
       " Document(id='5f3b1177-d2a3-4d4f-b887-5cd9b5a27a95', metadata={}, page_content='Cats are often seen as aloof and mysterious.'),\n",
       " Document(id='5f4fa239-cfaa-4100-9f1c-8005bf02ffbb', metadata={}, page_content='Cats are NOT AT ALL LOYAL.'),\n",
       " Document(id='1733dbd3-6990-49b0-8ec5-33fe0a3e331d', metadata={'producer': 'Acrobat Distiller 4.0 for Windows', 'creator': 'Microsoft Word 8.0', 'creationdate': '2000-06-29T10:21:08+11:00', 'source': './assets/pdf_w_text.pdf', 'file_path': './assets/pdf_w_text.pdf', 'total_pages': 1, 'format': 'PDF 1.3', 'title': 'This is a test PDF file', 'author': 'cdaily', 'subject': '', 'keywords': '', 'moddate': '2013-10-28T15:24:13-04:00', 'trapped': '', 'modDate': \"D:20131028152413-04'00'\", 'creationDate': \"D:20000629102108+11'00'\", 'page': 0}, page_content='• PDF files always print correctly on any printing device.\\n• PDF files always display exactly as created, regardless of fonts, software, and\\noperating systems. Fonts, and graphics are not lost due to platform, software, and\\nversion incompatibilities.\\n• The free Acrobat Reader is easy to download and can be freely distributed by\\nanyone.\\n• Compact PDF files are smaller than their source files and download a\\npage at a time for fast display on the Web.')]"
      ]
     },
     "execution_count": 34,
     "metadata": {},
     "output_type": "execute_result"
    }
   ],
   "source": [
    "database.search(search_type='similarity', query=\"animals\", k=8)"
   ]
  },
  {
   "cell_type": "markdown",
   "id": "05049e4e",
   "metadata": {},
   "source": [
    "### Summarize Chain:"
   ]
  },
  {
   "cell_type": "code",
   "execution_count": 35,
   "id": "ffbce540",
   "metadata": {},
   "outputs": [
    {
     "data": {
      "text/plain": [
       "[Document(id='a1cd727f-9fc6-4585-a6b2-571d5a59a803', metadata={}, page_content='Cats and Dogs are both popular pets.'),\n",
       " Document(id='de68b1c6-7416-4a38-94ae-24613b054a0c', metadata={}, page_content='Dogs are known for their loyalty and companionship.'),\n",
       " Document(id='b0d1c006-be00-4c3d-b609-ecb71302ef01', metadata={}, page_content='Dogs are loyal and require more attention.'),\n",
       " Document(id='46bd6c46-f3d4-48d5-86b6-f2479a957b3e', metadata={}, page_content='Cats are independent and low-maintenance pets.'),\n",
       " Document(id='5f3b1177-d2a3-4d4f-b887-5cd9b5a27a95', metadata={}, page_content='Cats are often seen as aloof and mysterious.'),\n",
       " Document(id='8643d5be-c856-49ae-be4f-c25d99e39a2c', metadata={}, page_content='Cats are great for small living spaces.'),\n",
       " Document(id='5f4fa239-cfaa-4100-9f1c-8005bf02ffbb', metadata={}, page_content='Cats are NOT AT ALL LOYAL.'),\n",
       " Document(id='85ac837c-f5c2-447e-90ee-704e3af4f03c', metadata={'producer': 'Acrobat Distiller 4.0 for Windows', 'creator': 'Microsoft Word 8.0', 'creationdate': '2000-06-29T10:21:08+11:00', 'source': './assets/pdf_w_text.pdf', 'file_path': './assets/pdf_w_text.pdf', 'total_pages': 1, 'format': 'PDF 1.3', 'title': 'This is a test PDF file', 'author': 'cdaily', 'subject': '', 'keywords': '', 'moddate': '2013-10-28T15:24:13-04:00', 'trapped': '', 'modDate': \"D:20131028152413-04'00'\", 'creationDate': \"D:20000629102108+11'00'\", 'page': 0}, page_content=\"Adobe Acrobat PDF Files\\nAdobe® Portable Document Format (PDF) is a universal file format that preserves all\\nof the fonts, formatting, colours and graphics of any source document, regardless of\\nthe application and platform used to create it.\\nAdobe PDF is an ideal format for electronic document distribution as it overcomes the\\nproblems commonly encountered with electronic file sharing.\\n• Anyone, anywhere can open a PDF file. All you need is the free Adobe Acrobat\\nReader. Recipients of other file formats sometimes can't open files because they\\ndon't have the applications used to create the documents.\\n• PDF files always print correctly on any printing device.\\n• PDF files always display exactly as created, regardless of fonts, software, and\"),\n",
       " Document(id='1733dbd3-6990-49b0-8ec5-33fe0a3e331d', metadata={'producer': 'Acrobat Distiller 4.0 for Windows', 'creator': 'Microsoft Word 8.0', 'creationdate': '2000-06-29T10:21:08+11:00', 'source': './assets/pdf_w_text.pdf', 'file_path': './assets/pdf_w_text.pdf', 'total_pages': 1, 'format': 'PDF 1.3', 'title': 'This is a test PDF file', 'author': 'cdaily', 'subject': '', 'keywords': '', 'moddate': '2013-10-28T15:24:13-04:00', 'trapped': '', 'modDate': \"D:20131028152413-04'00'\", 'creationDate': \"D:20000629102108+11'00'\", 'page': 0}, page_content='• PDF files always print correctly on any printing device.\\n• PDF files always display exactly as created, regardless of fonts, software, and\\noperating systems. Fonts, and graphics are not lost due to platform, software, and\\nversion incompatibilities.\\n• The free Acrobat Reader is easy to download and can be freely distributed by\\nanyone.\\n• Compact PDF files are smaller than their source files and download a\\npage at a time for fast display on the Web.')]"
      ]
     },
     "execution_count": 35,
     "metadata": {},
     "output_type": "execute_result"
    }
   ],
   "source": [
    "summarize_chain.invoke(\n",
    "    input={\n",
    "        \"input\": \"What animal was i talking about? Which one is most common apart from that animal?\",\n",
    "        \"chat_history\": [\n",
    "            HumanMessage(\"Hello, I'm Bhushan, What is your name?\"),\n",
    "            AIMessage(\"I am an AI assistant. I am not a human like you.\"),\n",
    "            HumanMessage(\"What are ur thoughts on DOGs?\"),\n",
    "            AIMessage(\"Dogs are loyal and require more attention.\"), \n",
    "        ]\n",
    "    },\n",
    ")"
   ]
  },
  {
   "cell_type": "markdown",
   "id": "34e264d7",
   "metadata": {},
   "source": [
    "### QA - Chain:"
   ]
  },
  {
   "cell_type": "code",
   "execution_count": 36,
   "id": "9bbf0dbd",
   "metadata": {},
   "outputs": [
    {
     "data": {
      "text/plain": [
       "'Retrieval-Augmented Generation'"
      ]
     },
     "execution_count": 36,
     "metadata": {},
     "output_type": "execute_result"
    }
   ],
   "source": [
    "qa_chain.invoke(\n",
    "    input={\n",
    "        \"input\": \"Full form of RAG?\",\n",
    "        \"context\": [Document(page_content=\"This is some random document which contains some random information.\")],\n",
    "        \"chat_history\": [\n",
    "            HumanMessage(\"hi\"),\n",
    "            AIMessage(\"hello\"),\n",
    "            HumanMessage(\"What is RAG?\"),\n",
    "            AIMessage(\"RAG is a technique to combine retrieval and generation.\"),\n",
    "        ]\n",
    "    },\n",
    "    # config={\"configurable\": {\"session_id\": 15}}\n",
    ")"
   ]
  },
  {
   "cell_type": "code",
   "execution_count": null,
   "id": "c9378f67",
   "metadata": {},
   "outputs": [],
   "source": []
  },
  {
   "cell_type": "markdown",
   "id": "8dac4910",
   "metadata": {},
   "source": [
    "### RAG Chain:"
   ]
  },
  {
   "cell_type": "code",
   "execution_count": 37,
   "id": "4030623c",
   "metadata": {},
   "outputs": [
    {
     "data": {
      "text/plain": [
       "{'input': 'Full form of RAG?',\n",
       " 'context': [Document(id='85ac837c-f5c2-447e-90ee-704e3af4f03c', metadata={'producer': 'Acrobat Distiller 4.0 for Windows', 'creator': 'Microsoft Word 8.0', 'creationdate': '2000-06-29T10:21:08+11:00', 'source': './assets/pdf_w_text.pdf', 'file_path': './assets/pdf_w_text.pdf', 'total_pages': 1, 'format': 'PDF 1.3', 'title': 'This is a test PDF file', 'author': 'cdaily', 'subject': '', 'keywords': '', 'moddate': '2013-10-28T15:24:13-04:00', 'trapped': '', 'modDate': \"D:20131028152413-04'00'\", 'creationDate': \"D:20000629102108+11'00'\", 'page': 0}, page_content=\"Adobe Acrobat PDF Files\\nAdobe® Portable Document Format (PDF) is a universal file format that preserves all\\nof the fonts, formatting, colours and graphics of any source document, regardless of\\nthe application and platform used to create it.\\nAdobe PDF is an ideal format for electronic document distribution as it overcomes the\\nproblems commonly encountered with electronic file sharing.\\n• Anyone, anywhere can open a PDF file. All you need is the free Adobe Acrobat\\nReader. Recipients of other file formats sometimes can't open files because they\\ndon't have the applications used to create the documents.\\n• PDF files always print correctly on any printing device.\\n• PDF files always display exactly as created, regardless of fonts, software, and\"),\n",
       "  Document(id='1733dbd3-6990-49b0-8ec5-33fe0a3e331d', metadata={'producer': 'Acrobat Distiller 4.0 for Windows', 'creator': 'Microsoft Word 8.0', 'creationdate': '2000-06-29T10:21:08+11:00', 'source': './assets/pdf_w_text.pdf', 'file_path': './assets/pdf_w_text.pdf', 'total_pages': 1, 'format': 'PDF 1.3', 'title': 'This is a test PDF file', 'author': 'cdaily', 'subject': '', 'keywords': '', 'moddate': '2013-10-28T15:24:13-04:00', 'trapped': '', 'modDate': \"D:20131028152413-04'00'\", 'creationDate': \"D:20000629102108+11'00'\", 'page': 0}, page_content='• PDF files always print correctly on any printing device.\\n• PDF files always display exactly as created, regardless of fonts, software, and\\noperating systems. Fonts, and graphics are not lost due to platform, software, and\\nversion incompatibilities.\\n• The free Acrobat Reader is easy to download and can be freely distributed by\\nanyone.\\n• Compact PDF files are smaller than their source files and download a\\npage at a time for fast display on the Web.'),\n",
       "  Document(id='5f3b1177-d2a3-4d4f-b887-5cd9b5a27a95', metadata={}, page_content='Cats are often seen as aloof and mysterious.'),\n",
       "  Document(id='b0d1c006-be00-4c3d-b609-ecb71302ef01', metadata={}, page_content='Dogs are loyal and require more attention.'),\n",
       "  Document(id='a1cd727f-9fc6-4585-a6b2-571d5a59a803', metadata={}, page_content='Cats and Dogs are both popular pets.'),\n",
       "  Document(id='de68b1c6-7416-4a38-94ae-24613b054a0c', metadata={}, page_content='Dogs are known for their loyalty and companionship.'),\n",
       "  Document(id='8643d5be-c856-49ae-be4f-c25d99e39a2c', metadata={}, page_content='Cats are great for small living spaces.'),\n",
       "  Document(id='46bd6c46-f3d4-48d5-86b6-f2479a957b3e', metadata={}, page_content='Cats are independent and low-maintenance pets.'),\n",
       "  Document(id='5f4fa239-cfaa-4100-9f1c-8005bf02ffbb', metadata={}, page_content='Cats are NOT AT ALL LOYAL.')],\n",
       " 'chat_history': [HumanMessage(content='hi', additional_kwargs={}, response_metadata={}),\n",
       "  AIMessage(content='hello', additional_kwargs={}, response_metadata={}),\n",
       "  HumanMessage(content='What is RAG?', additional_kwargs={}, response_metadata={}),\n",
       "  AIMessage(content='RAG is a technique to combine retrieval and generation.', additional_kwargs={}, response_metadata={})],\n",
       " 'answer': 'Retrieval-Augmented Generation'}"
      ]
     },
     "execution_count": 37,
     "metadata": {},
     "output_type": "execute_result"
    }
   ],
   "source": [
    "rag_chain.invoke(\n",
    "    input={\n",
    "        \"input\": \"Full form of RAG?\",\n",
    "        \"context\": [Document(page_content=\"This is some random document which contains some random information.\")],\n",
    "        \"chat_history\": [\n",
    "            HumanMessage(\"hi\"),\n",
    "            AIMessage(\"hello\"),\n",
    "            HumanMessage(\"What is RAG?\"),\n",
    "            AIMessage(\"RAG is a technique to combine retrieval and generation.\"),\n",
    "        ]\n",
    "    },\n",
    "    # config={\"configurable\": {\"session_id\": 15}}\n",
    ")"
   ]
  },
  {
   "cell_type": "code",
   "execution_count": null,
   "id": "f9a1c344",
   "metadata": {},
   "outputs": [],
   "source": []
  },
  {
   "cell_type": "markdown",
   "id": "b2d18165",
   "metadata": {},
   "source": [
    "### Conv RAG:"
   ]
  },
  {
   "cell_type": "code",
   "execution_count": 38,
   "id": "5c06d4f2",
   "metadata": {},
   "outputs": [
    {
     "name": "stdout",
     "output_type": "stream",
     "text": [
      "Created chat hist for session id: `120`\n"
     ]
    },
    {
     "data": {
      "text/plain": [
       "{'input': 'Hello, I am Bhushan. What abt u?',\n",
       " 'chat_history': [],\n",
       " 'context': [Document(id='85ac837c-f5c2-447e-90ee-704e3af4f03c', metadata={'producer': 'Acrobat Distiller 4.0 for Windows', 'creator': 'Microsoft Word 8.0', 'creationdate': '2000-06-29T10:21:08+11:00', 'source': './assets/pdf_w_text.pdf', 'file_path': './assets/pdf_w_text.pdf', 'total_pages': 1, 'format': 'PDF 1.3', 'title': 'This is a test PDF file', 'author': 'cdaily', 'subject': '', 'keywords': '', 'moddate': '2013-10-28T15:24:13-04:00', 'trapped': '', 'modDate': \"D:20131028152413-04'00'\", 'creationDate': \"D:20000629102108+11'00'\", 'page': 0}, page_content=\"Adobe Acrobat PDF Files\\nAdobe® Portable Document Format (PDF) is a universal file format that preserves all\\nof the fonts, formatting, colours and graphics of any source document, regardless of\\nthe application and platform used to create it.\\nAdobe PDF is an ideal format for electronic document distribution as it overcomes the\\nproblems commonly encountered with electronic file sharing.\\n• Anyone, anywhere can open a PDF file. All you need is the free Adobe Acrobat\\nReader. Recipients of other file formats sometimes can't open files because they\\ndon't have the applications used to create the documents.\\n• PDF files always print correctly on any printing device.\\n• PDF files always display exactly as created, regardless of fonts, software, and\"),\n",
       "  Document(id='1733dbd3-6990-49b0-8ec5-33fe0a3e331d', metadata={'producer': 'Acrobat Distiller 4.0 for Windows', 'creator': 'Microsoft Word 8.0', 'creationdate': '2000-06-29T10:21:08+11:00', 'source': './assets/pdf_w_text.pdf', 'file_path': './assets/pdf_w_text.pdf', 'total_pages': 1, 'format': 'PDF 1.3', 'title': 'This is a test PDF file', 'author': 'cdaily', 'subject': '', 'keywords': '', 'moddate': '2013-10-28T15:24:13-04:00', 'trapped': '', 'modDate': \"D:20131028152413-04'00'\", 'creationDate': \"D:20000629102108+11'00'\", 'page': 0}, page_content='• PDF files always print correctly on any printing device.\\n• PDF files always display exactly as created, regardless of fonts, software, and\\noperating systems. Fonts, and graphics are not lost due to platform, software, and\\nversion incompatibilities.\\n• The free Acrobat Reader is easy to download and can be freely distributed by\\nanyone.\\n• Compact PDF files are smaller than their source files and download a\\npage at a time for fast display on the Web.'),\n",
       "  Document(id='a1cd727f-9fc6-4585-a6b2-571d5a59a803', metadata={}, page_content='Cats and Dogs are both popular pets.'),\n",
       "  Document(id='5f3b1177-d2a3-4d4f-b887-5cd9b5a27a95', metadata={}, page_content='Cats are often seen as aloof and mysterious.'),\n",
       "  Document(id='8643d5be-c856-49ae-be4f-c25d99e39a2c', metadata={}, page_content='Cats are great for small living spaces.'),\n",
       "  Document(id='de68b1c6-7416-4a38-94ae-24613b054a0c', metadata={}, page_content='Dogs are known for their loyalty and companionship.'),\n",
       "  Document(id='46bd6c46-f3d4-48d5-86b6-f2479a957b3e', metadata={}, page_content='Cats are independent and low-maintenance pets.'),\n",
       "  Document(id='b0d1c006-be00-4c3d-b609-ecb71302ef01', metadata={}, page_content='Dogs are loyal and require more attention.'),\n",
       "  Document(id='5f4fa239-cfaa-4100-9f1c-8005bf02ffbb', metadata={}, page_content='Cats are NOT AT ALL LOYAL.')],\n",
       " 'answer': 'Hello Bhushan! I am a helpful AI assistant. I was created by the Gemma team at Google DeepMind. I’m an open-weights model, which means I’m widely available for public use.'}"
      ]
     },
     "execution_count": 38,
     "metadata": {},
     "output_type": "execute_result"
    }
   ],
   "source": [
    "conversational_rag_chain.invoke(\n",
    "    input={\"input\":\"Hello, I am Bhushan. What abt u?\"},\n",
    "    config={\"configurable\":{\"session_id\":120}}\n",
    ")"
   ]
  },
  {
   "cell_type": "code",
   "execution_count": 39,
   "id": "faaf1fe2",
   "metadata": {},
   "outputs": [
    {
     "data": {
      "text/plain": [
       "{'input': 'What are popular pets?',\n",
       " 'chat_history': [HumanMessage(content='Hello, I am Bhushan. What abt u?', additional_kwargs={}, response_metadata={}),\n",
       "  AIMessage(content='Hello Bhushan! I am a helpful AI assistant. I was created by the Gemma team at Google DeepMind. I’m an open-weights model, which means I’m widely available for public use.', additional_kwargs={}, response_metadata={})],\n",
       " 'context': [Document(id='a1cd727f-9fc6-4585-a6b2-571d5a59a803', metadata={}, page_content='Cats and Dogs are both popular pets.'),\n",
       "  Document(id='de68b1c6-7416-4a38-94ae-24613b054a0c', metadata={}, page_content='Dogs are known for their loyalty and companionship.'),\n",
       "  Document(id='b0d1c006-be00-4c3d-b609-ecb71302ef01', metadata={}, page_content='Dogs are loyal and require more attention.'),\n",
       "  Document(id='46bd6c46-f3d4-48d5-86b6-f2479a957b3e', metadata={}, page_content='Cats are independent and low-maintenance pets.'),\n",
       "  Document(id='8643d5be-c856-49ae-be4f-c25d99e39a2c', metadata={}, page_content='Cats are great for small living spaces.'),\n",
       "  Document(id='5f3b1177-d2a3-4d4f-b887-5cd9b5a27a95', metadata={}, page_content='Cats are often seen as aloof and mysterious.'),\n",
       "  Document(id='5f4fa239-cfaa-4100-9f1c-8005bf02ffbb', metadata={}, page_content='Cats are NOT AT ALL LOYAL.'),\n",
       "  Document(id='1733dbd3-6990-49b0-8ec5-33fe0a3e331d', metadata={'producer': 'Acrobat Distiller 4.0 for Windows', 'creator': 'Microsoft Word 8.0', 'creationdate': '2000-06-29T10:21:08+11:00', 'source': './assets/pdf_w_text.pdf', 'file_path': './assets/pdf_w_text.pdf', 'total_pages': 1, 'format': 'PDF 1.3', 'title': 'This is a test PDF file', 'author': 'cdaily', 'subject': '', 'keywords': '', 'moddate': '2013-10-28T15:24:13-04:00', 'trapped': '', 'modDate': \"D:20131028152413-04'00'\", 'creationDate': \"D:20000629102108+11'00'\", 'page': 0}, page_content='• PDF files always print correctly on any printing device.\\n• PDF files always display exactly as created, regardless of fonts, software, and\\noperating systems. Fonts, and graphics are not lost due to platform, software, and\\nversion incompatibilities.\\n• The free Acrobat Reader is easy to download and can be freely distributed by\\nanyone.\\n• Compact PDF files are smaller than their source files and download a\\npage at a time for fast display on the Web.'),\n",
       "  Document(id='85ac837c-f5c2-447e-90ee-704e3af4f03c', metadata={'producer': 'Acrobat Distiller 4.0 for Windows', 'creator': 'Microsoft Word 8.0', 'creationdate': '2000-06-29T10:21:08+11:00', 'source': './assets/pdf_w_text.pdf', 'file_path': './assets/pdf_w_text.pdf', 'total_pages': 1, 'format': 'PDF 1.3', 'title': 'This is a test PDF file', 'author': 'cdaily', 'subject': '', 'keywords': '', 'moddate': '2013-10-28T15:24:13-04:00', 'trapped': '', 'modDate': \"D:20131028152413-04'00'\", 'creationDate': \"D:20000629102108+11'00'\", 'page': 0}, page_content=\"Adobe Acrobat PDF Files\\nAdobe® Portable Document Format (PDF) is a universal file format that preserves all\\nof the fonts, formatting, colours and graphics of any source document, regardless of\\nthe application and platform used to create it.\\nAdobe PDF is an ideal format for electronic document distribution as it overcomes the\\nproblems commonly encountered with electronic file sharing.\\n• Anyone, anywhere can open a PDF file. All you need is the free Adobe Acrobat\\nReader. Recipients of other file formats sometimes can't open files because they\\ndon't have the applications used to create the documents.\\n• PDF files always print correctly on any printing device.\\n• PDF files always display exactly as created, regardless of fonts, software, and\")],\n",
       " 'answer': 'According to the provided document, popular pets are Cats and Dogs.'}"
      ]
     },
     "execution_count": 39,
     "metadata": {},
     "output_type": "execute_result"
    }
   ],
   "source": [
    "conversational_rag_chain.invoke(\n",
    "    input={\"input\":\"What are popular pets?\"},\n",
    "    config={\"configurable\":{\"session_id\":120}}\n",
    ")"
   ]
  },
  {
   "cell_type": "code",
   "execution_count": 40,
   "id": "f55d823f",
   "metadata": {},
   "outputs": [
    {
     "data": {
      "text/plain": [
       "{'input': 'Describe CATS?',\n",
       " 'chat_history': [HumanMessage(content='Hello, I am Bhushan. What abt u?', additional_kwargs={}, response_metadata={}),\n",
       "  AIMessage(content='Hello Bhushan! I am a helpful AI assistant. I was created by the Gemma team at Google DeepMind. I’m an open-weights model, which means I’m widely available for public use.', additional_kwargs={}, response_metadata={}),\n",
       "  HumanMessage(content='What are popular pets?', additional_kwargs={}, response_metadata={}),\n",
       "  AIMessage(content='According to the provided document, popular pets are Cats and Dogs.', additional_kwargs={}, response_metadata={})],\n",
       " 'context': [Document(id='46bd6c46-f3d4-48d5-86b6-f2479a957b3e', metadata={}, page_content='Cats are independent and low-maintenance pets.'),\n",
       "  Document(id='5f3b1177-d2a3-4d4f-b887-5cd9b5a27a95', metadata={}, page_content='Cats are often seen as aloof and mysterious.'),\n",
       "  Document(id='8643d5be-c856-49ae-be4f-c25d99e39a2c', metadata={}, page_content='Cats are great for small living spaces.'),\n",
       "  Document(id='a1cd727f-9fc6-4585-a6b2-571d5a59a803', metadata={}, page_content='Cats and Dogs are both popular pets.'),\n",
       "  Document(id='5f4fa239-cfaa-4100-9f1c-8005bf02ffbb', metadata={}, page_content='Cats are NOT AT ALL LOYAL.'),\n",
       "  Document(id='de68b1c6-7416-4a38-94ae-24613b054a0c', metadata={}, page_content='Dogs are known for their loyalty and companionship.'),\n",
       "  Document(id='b0d1c006-be00-4c3d-b609-ecb71302ef01', metadata={}, page_content='Dogs are loyal and require more attention.'),\n",
       "  Document(id='1733dbd3-6990-49b0-8ec5-33fe0a3e331d', metadata={'producer': 'Acrobat Distiller 4.0 for Windows', 'creator': 'Microsoft Word 8.0', 'creationdate': '2000-06-29T10:21:08+11:00', 'source': './assets/pdf_w_text.pdf', 'file_path': './assets/pdf_w_text.pdf', 'total_pages': 1, 'format': 'PDF 1.3', 'title': 'This is a test PDF file', 'author': 'cdaily', 'subject': '', 'keywords': '', 'moddate': '2013-10-28T15:24:13-04:00', 'trapped': '', 'modDate': \"D:20131028152413-04'00'\", 'creationDate': \"D:20000629102108+11'00'\", 'page': 0}, page_content='• PDF files always print correctly on any printing device.\\n• PDF files always display exactly as created, regardless of fonts, software, and\\noperating systems. Fonts, and graphics are not lost due to platform, software, and\\nversion incompatibilities.\\n• The free Acrobat Reader is easy to download and can be freely distributed by\\nanyone.\\n• Compact PDF files are smaller than their source files and download a\\npage at a time for fast display on the Web.'),\n",
       "  Document(id='85ac837c-f5c2-447e-90ee-704e3af4f03c', metadata={'producer': 'Acrobat Distiller 4.0 for Windows', 'creator': 'Microsoft Word 8.0', 'creationdate': '2000-06-29T10:21:08+11:00', 'source': './assets/pdf_w_text.pdf', 'file_path': './assets/pdf_w_text.pdf', 'total_pages': 1, 'format': 'PDF 1.3', 'title': 'This is a test PDF file', 'author': 'cdaily', 'subject': '', 'keywords': '', 'moddate': '2013-10-28T15:24:13-04:00', 'trapped': '', 'modDate': \"D:20131028152413-04'00'\", 'creationDate': \"D:20000629102108+11'00'\", 'page': 0}, page_content=\"Adobe Acrobat PDF Files\\nAdobe® Portable Document Format (PDF) is a universal file format that preserves all\\nof the fonts, formatting, colours and graphics of any source document, regardless of\\nthe application and platform used to create it.\\nAdobe PDF is an ideal format for electronic document distribution as it overcomes the\\nproblems commonly encountered with electronic file sharing.\\n• Anyone, anywhere can open a PDF file. All you need is the free Adobe Acrobat\\nReader. Recipients of other file formats sometimes can't open files because they\\ndon't have the applications used to create the documents.\\n• PDF files always print correctly on any printing device.\\n• PDF files always display exactly as created, regardless of fonts, software, and\")],\n",
       " 'answer': 'Cats are independent and low-maintenance pets. Cats are often seen as aloof and mysterious. Cats are NOT AT ALL LOYAL.'}"
      ]
     },
     "execution_count": 40,
     "metadata": {},
     "output_type": "execute_result"
    }
   ],
   "source": [
    "conversational_rag_chain.invoke(\n",
    "    input={\"input\":\"Describe CATS?\"},\n",
    "    config={\"configurable\":{\"session_id\":120}}\n",
    ")"
   ]
  },
  {
   "cell_type": "code",
   "execution_count": 41,
   "id": "e9d17980",
   "metadata": {},
   "outputs": [
    {
     "data": {
      "text/plain": [
       "{'input': '1. Are they LOYAL? 2. What do I mean my THEY?',\n",
       " 'chat_history': [HumanMessage(content='Hello, I am Bhushan. What abt u?', additional_kwargs={}, response_metadata={}),\n",
       "  AIMessage(content='Hello Bhushan! I am a helpful AI assistant. I was created by the Gemma team at Google DeepMind. I’m an open-weights model, which means I’m widely available for public use.', additional_kwargs={}, response_metadata={}),\n",
       "  HumanMessage(content='What are popular pets?', additional_kwargs={}, response_metadata={}),\n",
       "  AIMessage(content='According to the provided document, popular pets are Cats and Dogs.', additional_kwargs={}, response_metadata={}),\n",
       "  HumanMessage(content='Describe CATS?', additional_kwargs={}, response_metadata={}),\n",
       "  AIMessage(content='Cats are independent and low-maintenance pets. Cats are often seen as aloof and mysterious. Cats are NOT AT ALL LOYAL.', additional_kwargs={}, response_metadata={})],\n",
       " 'context': [Document(id='de68b1c6-7416-4a38-94ae-24613b054a0c', metadata={}, page_content='Dogs are known for their loyalty and companionship.'),\n",
       "  Document(id='b0d1c006-be00-4c3d-b609-ecb71302ef01', metadata={}, page_content='Dogs are loyal and require more attention.'),\n",
       "  Document(id='a1cd727f-9fc6-4585-a6b2-571d5a59a803', metadata={}, page_content='Cats and Dogs are both popular pets.'),\n",
       "  Document(id='5f3b1177-d2a3-4d4f-b887-5cd9b5a27a95', metadata={}, page_content='Cats are often seen as aloof and mysterious.'),\n",
       "  Document(id='5f4fa239-cfaa-4100-9f1c-8005bf02ffbb', metadata={}, page_content='Cats are NOT AT ALL LOYAL.'),\n",
       "  Document(id='46bd6c46-f3d4-48d5-86b6-f2479a957b3e', metadata={}, page_content='Cats are independent and low-maintenance pets.'),\n",
       "  Document(id='8643d5be-c856-49ae-be4f-c25d99e39a2c', metadata={}, page_content='Cats are great for small living spaces.'),\n",
       "  Document(id='85ac837c-f5c2-447e-90ee-704e3af4f03c', metadata={'producer': 'Acrobat Distiller 4.0 for Windows', 'creator': 'Microsoft Word 8.0', 'creationdate': '2000-06-29T10:21:08+11:00', 'source': './assets/pdf_w_text.pdf', 'file_path': './assets/pdf_w_text.pdf', 'total_pages': 1, 'format': 'PDF 1.3', 'title': 'This is a test PDF file', 'author': 'cdaily', 'subject': '', 'keywords': '', 'moddate': '2013-10-28T15:24:13-04:00', 'trapped': '', 'modDate': \"D:20131028152413-04'00'\", 'creationDate': \"D:20000629102108+11'00'\", 'page': 0}, page_content=\"Adobe Acrobat PDF Files\\nAdobe® Portable Document Format (PDF) is a universal file format that preserves all\\nof the fonts, formatting, colours and graphics of any source document, regardless of\\nthe application and platform used to create it.\\nAdobe PDF is an ideal format for electronic document distribution as it overcomes the\\nproblems commonly encountered with electronic file sharing.\\n• Anyone, anywhere can open a PDF file. All you need is the free Adobe Acrobat\\nReader. Recipients of other file formats sometimes can't open files because they\\ndon't have the applications used to create the documents.\\n• PDF files always print correctly on any printing device.\\n• PDF files always display exactly as created, regardless of fonts, software, and\"),\n",
       "  Document(id='1733dbd3-6990-49b0-8ec5-33fe0a3e331d', metadata={'producer': 'Acrobat Distiller 4.0 for Windows', 'creator': 'Microsoft Word 8.0', 'creationdate': '2000-06-29T10:21:08+11:00', 'source': './assets/pdf_w_text.pdf', 'file_path': './assets/pdf_w_text.pdf', 'total_pages': 1, 'format': 'PDF 1.3', 'title': 'This is a test PDF file', 'author': 'cdaily', 'subject': '', 'keywords': '', 'moddate': '2013-10-28T15:24:13-04:00', 'trapped': '', 'modDate': \"D:20131028152413-04'00'\", 'creationDate': \"D:20000629102108+11'00'\", 'page': 0}, page_content='• PDF files always print correctly on any printing device.\\n• PDF files always display exactly as created, regardless of fonts, software, and\\noperating systems. Fonts, and graphics are not lost due to platform, software, and\\nversion incompatibilities.\\n• The free Acrobat Reader is easy to download and can be freely distributed by\\nanyone.\\n• Compact PDF files are smaller than their source files and download a\\npage at a time for fast display on the Web.')],\n",
       " 'answer': '1. No, Cats are NOT AT ALL LOYAL.\\n2. “They” refers to Cats.'}"
      ]
     },
     "execution_count": 41,
     "metadata": {},
     "output_type": "execute_result"
    }
   ],
   "source": [
    "conversational_rag_chain.invoke(\n",
    "    input={\"input\":\"1. Are they LOYAL? 2. What do I mean my THEY?\"},\n",
    "    config={\"configurable\":{\"session_id\":120}}\n",
    ")"
   ]
  },
  {
   "cell_type": "code",
   "execution_count": null,
   "id": "34f4614c",
   "metadata": {},
   "outputs": [],
   "source": []
  },
  {
   "cell_type": "markdown",
   "id": "5c40c001",
   "metadata": {},
   "source": [
    "## Important:"
   ]
  },
  {
   "cell_type": "markdown",
   "id": "0df51717",
   "metadata": {},
   "source": [
    "- Just figured this out\n",
    "- if u are having LLM call in the chain, but still it is not working, the possible reason is `ChatPromptTemplate`.\n",
    "- If history is empty, then Template is skipped\n",
    "- And maybe hence, all further calls as well!!\n",
    "- So, if LLM is not getting called, try passing some history manually\n",
    "\n",
    "> My issue\n",
    "- I was using \"messages\" for the chat history\n",
    "- Cause, trimmer expects \"messages\" key for input\n",
    "- But, somehow, prompt template was not able to use \"messages\" key even though it was set explicitly like that.\n",
    "- Once replaced with \"chat_history\", it worked.\n",
    "- Also, for output always use \"answer\" key (in create hist aware retriever in Conversational RAG)"
   ]
  }
 ],
 "metadata": {
  "kernelspec": {
   "display_name": "genai",
   "language": "python",
   "name": "python3"
  },
  "language_info": {
   "codemirror_mode": {
    "name": "ipython",
    "version": 3
   },
   "file_extension": ".py",
   "mimetype": "text/x-python",
   "name": "python",
   "nbconvert_exporter": "python",
   "pygments_lexer": "ipython3",
   "version": "3.12.0"
  }
 },
 "nbformat": 4,
 "nbformat_minor": 5
}
